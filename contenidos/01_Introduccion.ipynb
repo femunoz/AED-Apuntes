{
  "cells": [
    {
      "cell_type": "markdown",
      "metadata": {
        "id": "BirSzuMPltbr"
      },
      "source": [
        "# 1 Introducción\n",
        "El objetivo de este capítulo es ver los conceptos básicos de programación que luego utilizaremos a lo largo de todo el curso. Esto incluye ver tanto los datos que vamos a manejar, como las instrucciones que operan sobre ellos, así como las técnicas básicas de programación.\n",
        "Para la implementación de los algoritmos que vamos a ver utilizaremos el lenguaje Python, sin perjuicio de que los conceptos que veremos son independientes del lenguaje específico utilizado.\n",
        "\n",
        "En primer lugar, veremos algunos de los tipos de datos básicos de Python.\n",
        "Las variables cambian de tipo dinámicamente según el tipo del valor que tengan en un instante dado."
      ]
    },
    {
      "cell_type": "markdown",
      "metadata": {
        "id": "vPkl8hVNltbs"
      },
      "source": [
        "## Datos numéricos\n",
        "Python distingue entre números enteros (``int``) y números de punto flotante (``float``)."
      ]
    },
    {
      "cell_type": "code",
      "execution_count": null,
      "metadata": {
        "id": "H5o1kz-_ltbs",
        "outputId": "18f0e58d-c5e0-4229-940e-10791f2afea1"
      },
      "outputs": [
        {
          "name": "stdout",
          "output_type": "stream",
          "text": [
            "5 <class 'int'>\n",
            "3.14 <class 'float'>\n"
          ]
        }
      ],
      "source": [
        "n=5 # int\n",
        "print(n, type(n))\n",
        "x=3.14 # float\n",
        "print(x, type(x))"
      ]
    },
    {
      "cell_type": "markdown",
      "metadata": {
        "id": "OQRY25psltbt"
      },
      "source": [
        "Sobre estos datos se pueden ejecutar las operaciones aritméticas habituales."
      ]
    },
    {
      "cell_type": "code",
      "execution_count": null,
      "metadata": {
        "id": "OQ9TnAE7ltbt",
        "outputId": "0b696557-3aa8-413e-9a99-e6b534a30674"
      },
      "outputs": [
        {
          "name": "stdout",
          "output_type": "stream",
          "text": [
            "6\n",
            "2.5\n",
            "2\n",
            "9.8596\n"
          ]
        }
      ],
      "source": [
        "print(n+1)\n",
        "print(n/2) # noten la diferencia con Python 2.7\n",
        "print(n//2) # división entera\n",
        "print(x**2)"
      ]
    },
    {
      "cell_type": "markdown",
      "metadata": {
        "id": "lY9ClG5-ltbt"
      },
      "source": [
        "## Datos lógicos\n",
        "Los valores de verdad son `True` y `False`. Las operaciones lógicas se indican con palabras en lugar de símbolos."
      ]
    },
    {
      "cell_type": "code",
      "execution_count": null,
      "metadata": {
        "id": "KBVRcW-iltbu",
        "outputId": "7592023e-8f4b-4d0f-cd9f-ff164805f036"
      },
      "outputs": [
        {
          "name": "stdout",
          "output_type": "stream",
          "text": [
            "False\n",
            "True\n",
            "True\n"
          ]
        }
      ],
      "source": [
        "t=True\n",
        "f=False\n",
        "print(t and f)\n",
        "print(t and not f)\n",
        "print(n>0)"
      ]
    },
    {
      "cell_type": "markdown",
      "metadata": {
        "id": "taCqCc1Zltbu"
      },
      "source": [
        "## Strings\n",
        "Los strings se escriben entre comillas simples o dobles, y existen muchas operaciones definidas para ellos."
      ]
    },
    {
      "cell_type": "code",
      "execution_count": null,
      "metadata": {
        "id": "_w5ANCZaltbu",
        "outputId": "fb0d2c4f-6f36-46a2-f5b3-a3d5f39c9961"
      },
      "outputs": [
        {
          "name": "stdout",
          "output_type": "stream",
          "text": [
            "Hola\n",
            "4\n",
            "Hola mundo\n",
            "HOLA\n"
          ]
        }
      ],
      "source": [
        "h=\"Hola\"\n",
        "print(h)\n",
        "print(len(h))\n",
        "m='mundo'\n",
        "print(h + \" \" + m)\n",
        "print(h.upper())"
      ]
    },
    {
      "cell_type": "markdown",
      "metadata": {
        "id": "XXeM3Es7ltbu"
      },
      "source": [
        "## Listas\n",
        "Una lista es una secuencia de datos, posiblemente de distintos tipos, de largo variable."
      ]
    },
    {
      "cell_type": "code",
      "execution_count": null,
      "metadata": {
        "id": "Sh9BGaitltbu",
        "outputId": "499a309a-27fb-4292-cd17-a0630d558255"
      },
      "outputs": [
        {
          "name": "stdout",
          "output_type": "stream",
          "text": [
            "[3, 2, 1]\n",
            "[3, 2, 1, 0]\n",
            "[3, 2, 1]\n",
            "0\n"
          ]
        }
      ],
      "source": [
        "L=[3,2,1]\n",
        "print(L)\n",
        "L.append(0)\n",
        "print(L)\n",
        "x=L.pop()\n",
        "print(L)\n",
        "print(x)"
      ]
    },
    {
      "cell_type": "markdown",
      "metadata": {
        "id": "V20abzNKltbu"
      },
      "source": [
        "Los elementos de la lista se indexan partiendo desde cero."
      ]
    },
    {
      "cell_type": "code",
      "execution_count": null,
      "metadata": {
        "id": "3vkirihCltbv",
        "outputId": "361ec709-777b-4a0a-818c-4520dc9280fa"
      },
      "outputs": [
        {
          "name": "stdout",
          "output_type": "stream",
          "text": [
            "3\n",
            "1\n",
            "1\n"
          ]
        }
      ],
      "source": [
        "print(L[0])\n",
        "print(L[2])\n",
        "print(L[-1]) # contando desde el extremo derecho"
      ]
    },
    {
      "cell_type": "markdown",
      "metadata": {
        "id": "BXguAY7pltbv"
      },
      "source": [
        "Una lista se puede construir en base a iterar una fórmula:"
      ]
    },
    {
      "cell_type": "code",
      "execution_count": null,
      "metadata": {
        "id": "8g8IG_5Jltbv",
        "outputId": "59734c7e-011a-45f7-8782-0a6d11eb2792"
      },
      "outputs": [
        {
          "name": "stdout",
          "output_type": "stream",
          "text": [
            "[1, 4, 9, 16, 25, 36]\n"
          ]
        }
      ],
      "source": [
        "C = [n**2 for n in range(1,7)]\n",
        "print(C)"
      ]
    },
    {
      "cell_type": "markdown",
      "metadata": {
        "id": "ccRMaD8nltbv"
      },
      "source": [
        "Una lista se puede recorrer a través de sus subíndices:"
      ]
    },
    {
      "cell_type": "code",
      "execution_count": null,
      "metadata": {
        "id": "d18_wBWbltbv",
        "outputId": "4e0e67f0-59a3-4b79-c182-a18df96eef52"
      },
      "outputs": [
        {
          "name": "stdout",
          "output_type": "stream",
          "text": [
            "1\n",
            "4\n",
            "9\n",
            "16\n",
            "25\n",
            "36\n"
          ]
        }
      ],
      "source": [
        "for i in range(0,len(C)):\n",
        "    print(C[i])"
      ]
    },
    {
      "cell_type": "markdown",
      "metadata": {
        "id": "uqmCcxI5ltbv"
      },
      "source": [
        "O bien iterando sobre los elementos de la lista:"
      ]
    },
    {
      "cell_type": "code",
      "execution_count": null,
      "metadata": {
        "id": "oqrzO_DQltbv",
        "outputId": "07e325ca-b662-43ee-aae8-f2708b60f837"
      },
      "outputs": [
        {
          "name": "stdout",
          "output_type": "stream",
          "text": [
            "1\n",
            "4\n",
            "9\n",
            "16\n",
            "25\n",
            "36\n"
          ]
        }
      ],
      "source": [
        "for v in C:\n",
        "    print(v)"
      ]
    },
    {
      "cell_type": "markdown",
      "metadata": {
        "id": "-kgf0ehTltbv"
      },
      "source": [
        "## Funciones predefinidas\n",
        "Hay funciones que están disponibles para ser utilizadas:"
      ]
    },
    {
      "cell_type": "code",
      "execution_count": null,
      "metadata": {
        "id": "3XuR5Jlsltbv",
        "outputId": "5ac7c579-b04c-4dc7-c938-f218124e097e"
      },
      "outputs": [
        {
          "name": "stdout",
          "output_type": "stream",
          "text": [
            "5.0\n"
          ]
        }
      ],
      "source": [
        "import math\n",
        "a=3\n",
        "b=4\n",
        "c=math.sqrt(a**2+b**2)\n",
        "print(c)"
      ]
    },
    {
      "cell_type": "markdown",
      "metadata": {
        "id": "upq9BkM8ltbv"
      },
      "source": [
        "## Funciones\n",
        "Uno puede definir sus propias funciones:"
      ]
    },
    {
      "cell_type": "code",
      "execution_count": null,
      "metadata": {
        "id": "oV0MhZTAltbv",
        "outputId": "e051ef31-e630-485e-ead7-569da7e9b15b"
      },
      "outputs": [
        {
          "name": "stdout",
          "output_type": "stream",
          "text": [
            "5.0\n"
          ]
        }
      ],
      "source": [
        "def hipotenusa(a,b):\n",
        "    import math\n",
        "    c=math.sqrt(a**2+b**2)\n",
        "    return c\n",
        "print(hipotenusa(3,4))"
      ]
    },
    {
      "cell_type": "markdown",
      "metadata": {
        "id": "RrvzQPUfltbv"
      },
      "source": [
        "## Expresiones condicionales\n",
        "Una expresión de la forma\n",
        "```python\n",
        "valor_si_verdadero if condicion else valor_si_falso\n",
        "```\n",
        "permite por ejemplo definir funciones por tramos, como por ejemplo:\n",
        "\n",
        "$$\n",
        "|x| =\n",
        "\\begin{cases}\n",
        "-x & \\text{si } x<0 \\\\\n",
        "x & \\text{en caso contrario}\n",
        "\\end{cases}\n",
        "$$"
      ]
    },
    {
      "cell_type": "code",
      "execution_count": null,
      "metadata": {
        "id": "SraYlntyltbv",
        "outputId": "767da5a7-2f43-4438-c53d-b1fa12d37733"
      },
      "outputs": [
        {
          "name": "stdout",
          "output_type": "stream",
          "text": [
            "5 5\n"
          ]
        }
      ],
      "source": [
        "def valor_absoluto(x):\n",
        "    return -x if x<0 else x\n",
        "print(valor_absoluto(-5), valor_absoluto(5))"
      ]
    },
    {
      "cell_type": "markdown",
      "metadata": {
        "id": "jSlbr2mIltbv"
      },
      "source": [
        "## Diccionarios\n",
        "Un diccionario es similar a una lista, pero los elementos se indexan con datos no necesariamente numéricos. Por ejemplo, supongamos que queremos convertir \"piedra\", \"papel\" y \"tijera\" a una representación numérica 0, 1, 2, respectivamente:"
      ]
    },
    {
      "cell_type": "code",
      "execution_count": null,
      "metadata": {
        "id": "fo8wQ04Wltbv",
        "outputId": "a0985de7-179b-44c1-effd-8b564b1f59fd"
      },
      "outputs": [
        {
          "name": "stdout",
          "output_type": "stream",
          "text": [
            "1\n"
          ]
        }
      ],
      "source": [
        "p_a_n = {\"piedra\":0, \"papel\":1, \"tijera\":2} # para convertir de palabra a número\n",
        "print(p_a_n[\"papel\"])"
      ]
    },
    {
      "cell_type": "markdown",
      "metadata": {
        "id": "0nBeV3dJltbv"
      },
      "source": [
        "La conversión inversa se puede hacer simplemente con una lista:"
      ]
    },
    {
      "cell_type": "code",
      "execution_count": null,
      "metadata": {
        "id": "phXktvYAltbv",
        "outputId": "5f7f164d-7941-45a3-ddc2-1c95749173af"
      },
      "outputs": [
        {
          "name": "stdout",
          "output_type": "stream",
          "text": [
            "papel\n"
          ]
        }
      ],
      "source": [
        "n_a_p = [\"piedra\", \"papel\", \"tijera\"] # para convertir de número a palabra\n",
        "print(n_a_p[1])"
      ]
    },
    {
      "cell_type": "markdown",
      "metadata": {
        "id": "CdrRj9zdltbv"
      },
      "source": [
        "Con esto podemos hacer una función en que el programa juegue \"cachipún\" contra el usuario:"
      ]
    },
    {
      "cell_type": "code",
      "execution_count": null,
      "metadata": {
        "id": "rA_PYetTltbw"
      },
      "outputs": [],
      "source": [
        "def juega():\n",
        "    from random import randint\n",
        "    programa=randint(0,2)\n",
        "    usuario=p_a_n[input(\"¿piedra, papel o tijera? \")]\n",
        "    resultado=\"Empate\" if programa==usuario else\\\n",
        "        \"Gana Usuario\" if (programa+1)%3==usuario else \"Gana Programa\"\n",
        "    print(\"Usuario juega\", n_a_p[usuario])\n",
        "    print(\"Programa juega\", n_a_p[programa])\n",
        "    print(\"Resultado:\", resultado)"
      ]
    },
    {
      "cell_type": "code",
      "execution_count": null,
      "metadata": {
        "id": "XeKNyWdTltbw",
        "outputId": "0764f126-2816-4a4a-8242-f583dd176f71"
      },
      "outputs": [
        {
          "name": "stdout",
          "output_type": "stream",
          "text": [
            "¿piedra, papel o tijera? tijera\n",
            "Usuario juega tijera\n",
            "Programa juega tijera\n",
            "Resultado: Empate\n"
          ]
        }
      ],
      "source": [
        "juega()"
      ]
    },
    {
      "cell_type": "markdown",
      "metadata": {
        "id": "GYh9wYn3ltbw"
      },
      "source": [
        "## Instrucción condicional: if\n",
        "La instrucción `if` permite elegir entre distintas alternativas de instrucciones a ejecutar."
      ]
    },
    {
      "cell_type": "code",
      "execution_count": null,
      "metadata": {
        "id": "BhUvbmpTltbw",
        "outputId": "ee038db2-bb00-48cd-cb75-2cfc00e30b75"
      },
      "outputs": [
        {
          "name": "stdout",
          "output_type": "stream",
          "text": [
            "7\n"
          ]
        }
      ],
      "source": [
        "# Encontrar el máximo entre dos valores\n",
        "def max2(a, b):\n",
        "    if a>b:\n",
        "        m=a\n",
        "    else:\n",
        "        m=b\n",
        "    return m\n",
        "print(max2(3,7))"
      ]
    },
    {
      "cell_type": "markdown",
      "metadata": {
        "id": "Q7v2QsYqltbw"
      },
      "source": [
        "Esto se puede generalizar a 3 valores, pero el resultado no es muy elegante:"
      ]
    },
    {
      "cell_type": "code",
      "execution_count": null,
      "metadata": {
        "id": "OyLewc5hltbw",
        "outputId": "c0f2b8ed-f3bf-473d-fc01-f06fb39424f9"
      },
      "outputs": [
        {
          "name": "stdout",
          "output_type": "stream",
          "text": [
            "7\n"
          ]
        }
      ],
      "source": [
        "# Encontrar el máximo entre tres valores\n",
        "def max3(a, b, c):\n",
        "    if a>b:\n",
        "        if a>c:\n",
        "            m=a\n",
        "        else:\n",
        "            m=c\n",
        "    else:\n",
        "        if b>c:\n",
        "            m=b\n",
        "        else:\n",
        "            m=c\n",
        "    return m\n",
        "print(max3(4,3,7))"
      ]
    },
    {
      "cell_type": "markdown",
      "metadata": {
        "id": "giHbo9Aaltbw"
      },
      "source": [
        "Una mejor alternativa la podemos obtener si vamos obteniendo aproximaciones sucesivas al máximo:"
      ]
    },
    {
      "cell_type": "code",
      "execution_count": null,
      "metadata": {
        "id": "1QRhPnXrltbw",
        "outputId": "1b217eec-41ab-4d00-a165-4ede3b71cba2"
      },
      "outputs": [
        {
          "name": "stdout",
          "output_type": "stream",
          "text": [
            "7\n"
          ]
        }
      ],
      "source": [
        "# Encontrar el máximo entre dos valores\n",
        "def max2(a, b):\n",
        "    m=a\n",
        "    if b>m:\n",
        "        m=b\n",
        "    return m\n",
        "print(max2(3,7))"
      ]
    },
    {
      "cell_type": "markdown",
      "metadata": {
        "id": "gsnr3sFXltbw"
      },
      "source": [
        "Esto se generaliza de manera mucho más simple a tres (o más) valores:"
      ]
    },
    {
      "cell_type": "code",
      "execution_count": null,
      "metadata": {
        "id": "_LZlS-nmltbz",
        "outputId": "fa7b4507-a7e3-4bb3-eb4d-32325db426c7"
      },
      "outputs": [
        {
          "name": "stdout",
          "output_type": "stream",
          "text": [
            "7\n"
          ]
        }
      ],
      "source": [
        "# Encontrar el máximo entre tres valores\n",
        "def max3(a, b, c):\n",
        "    m=a\n",
        "    if b>m:\n",
        "        m=b\n",
        "    if c>m:\n",
        "        m=c\n",
        "    return m\n",
        "print(max3(4,3,7))"
      ]
    },
    {
      "cell_type": "markdown",
      "metadata": {
        "id": "SSR79yFgltbz"
      },
      "source": [
        "Cuando hay preguntas encadenadas, se puede usar la cláusula `elif` (abreviatura de `else if`, pero que no abre un nuevo nivel de indentación):"
      ]
    },
    {
      "cell_type": "code",
      "execution_count": null,
      "metadata": {
        "id": "k04Na8aHltbz",
        "outputId": "73c2329b-a584-4a26-863a-afec8384c829"
      },
      "outputs": [
        {
          "name": "stdout",
          "output_type": "stream",
          "text": [
            "False True True\n"
          ]
        }
      ],
      "source": [
        "# Dice si un año dado es bisiesto\n",
        "def es_bisiesto(a):\n",
        "    if a%400==0:   # Los múltiplos de 400 siempre son bisiestos\n",
        "        b=True\n",
        "    elif a%100==0: # Los demás múltiplos de 100 no son bisiestos\n",
        "        b=False\n",
        "    elif a%4==0:   # De los restantes, los múltiplos de 4 son bisiestos\n",
        "        b=True\n",
        "    else:          # Cualquier otro año no es bisiesto\n",
        "        b=False\n",
        "    return b\n",
        "print(es_bisiesto(1900), es_bisiesto(2000), es_bisiesto(2020))"
      ]
    },
    {
      "cell_type": "markdown",
      "metadata": {
        "id": "vRWxxef0ltbz"
      },
      "source": [
        "---"
      ]
    },
    {
      "cell_type": "markdown",
      "metadata": {
        "id": "69W7dWNtltbz"
      },
      "source": [
        "## Instrucciones iterativas e invariante\n",
        "\n",
        "A continuación visitaremos el concepto de ciclo (o iteración) y las instrucciones que permiten realizar este tipo de iteraciones en Python."
      ]
    },
    {
      "cell_type": "markdown",
      "metadata": {
        "id": "8P9TbGasltbz"
      },
      "source": [
        "## Instrucciones iterativas: for\n",
        "\n",
        "La instrucción `for` itera con una variable que toma valores de una lista dada. A menudo, esa lista se especifica mediante `range`.\n",
        "Ilustraremos su uso generalizando los algoritmos que vimos antes para encontrar el máximo de un conjunto de dos o tres números, al caso de un conjunto con un número cualquiera de elementos:"
      ]
    },
    {
      "cell_type": "code",
      "execution_count": null,
      "metadata": {
        "id": "EzgYyMOsltbz",
        "outputId": "6f379fc0-5401-4a11-fa2e-12f32f340498"
      },
      "outputs": [
        {
          "name": "stdout",
          "output_type": "stream",
          "text": [
            "93\n"
          ]
        }
      ],
      "source": [
        "# Encuentra el máximo de una lista a\n",
        "def maximo(a):\n",
        "    m=a[0]\n",
        "    # Al comenzar cada iteración, se cumple que m==max(a[0],...,a[k-1])\n",
        "    for k in range(1,len(a)):\n",
        "        if a[k]>m:\n",
        "            m=a[k]\n",
        "    return m\n",
        "print(maximo([25, 42, 93, 17, 54, 28]))"
      ]
    },
    {
      "cell_type": "markdown",
      "metadata": {
        "id": "pmjTu8J0ltbz"
      },
      "source": [
        "## Invariante\n",
        "\n",
        "El comentario que aparece junto al `for` describe lo que se llama el **invariante** del ciclo, y es muy útil para poder argumentar la correctitud del programa, así como para poder ayudar a su diseño.\n",
        "\n",
        "El invariante es una afirmación lógica que debe ser verdadera cada vez que se intenta iniciar una nueva iteración, lo cual incluye tanto la primera vez como el último intento, en que se detecta que el rango ya se ha agotado y el ciclo termina.\n",
        "\n",
        "* La validez del invariante la primera vez la deben asegurar las instrucciones previas al ciclo, que se llaman instrucciones de *inicialización*. En este ejemplo, al comenzar el ciclo se tiene que $k=1$, y por lo tanto trivialmente se cumple que $m=\\max(a[0])$.\n",
        "\n",
        "* Las instrucciones al interior del ciclo (el \"cuerpo de ciclo\") parten de la premisa de que el invariante se cumple al inicio, y deben garantizar que se cumpla al final (para dejar todo listo para la próxima iteración). Esto se llama _preservar el invariante_. En este ejemplo, para asegurar que $m=\\max(a[0],\\ldots,a[k])$ sabiendo que ya era cierto que $m=\\max(a[0],\\ldots,a[k-1])$, se debe modificar $m$ solo en el caso de que $a[k]$ sea mayor que $m$, o dejarlo igual si no.\n",
        "\n",
        "* Cuando se detecta que el rango se ha agotado, el invariante igualmente se cumple, y ambas cosas juntas deben asegurar que haya logrado el objetivo final deseado. En este ejemplo, cuando $k$ llega a ser igual a $len(a)$, el invariante implica que $m=\\max(a[0],\\ldots,a[len(a)-1])$, o sea, es el máximo de toda la lista."
      ]
    },
    {
      "cell_type": "markdown",
      "metadata": {
        "id": "OBh1bx6yltbz"
      },
      "source": [
        "---"
      ]
    },
    {
      "cell_type": "markdown",
      "metadata": {
        "id": "ETa7IyLPltbz"
      },
      "source": [
        "## Instrucciones iterativas: while\n",
        "La instrucción `while` ejecuta instrucciones mientra la condición especificada sea verdadera:"
      ]
    },
    {
      "cell_type": "code",
      "execution_count": null,
      "metadata": {
        "id": "Lqa7U0txltbz",
        "outputId": "2d468fb8-84ce-4ae1-edb9-f52daa3c7f02"
      },
      "outputs": [
        {
          "name": "stdout",
          "output_type": "stream",
          "text": [
            "True True False False True\n"
          ]
        }
      ],
      "source": [
        "# Dice si un número dado es primo o no\n",
        "def es_primo(n):\n",
        "    if n==2:\n",
        "        return True # 2 es primo\n",
        "    if n%2==0:\n",
        "        return False # ningún otro par es primo\n",
        "    k=3\n",
        "    while k**2<=n: # no es necesario buscar posibles factores más allá de sqrt(n)\n",
        "        if n%k==0:\n",
        "            return False # n es divisible por k => no es primo\n",
        "        k+=2 # probamos solo los impares\n",
        "    # si no se encontró ningún factor menor que raíz de n, es primo\n",
        "    return True\n",
        "print(es_primo(2), es_primo(7), es_primo(9), es_primo(79823492843), es_primo(79823492869))"
      ]
    },
    {
      "cell_type": "markdown",
      "metadata": {
        "id": "h8ZgHHy_ltbz"
      },
      "source": [
        "## Ejemplo de programación con invariantes: particionar un conjunto\n",
        "\n",
        "Supongamos que se tiene un conjunto de datos en una lista $a[0],\\ldots,a[n-1]$ y un valor de corte $p$, y se desea reordenar los datos dentro de la lista, de modo que queden a la izquierda todos los que son menores que $p$, y a la derecha los que son mayores. Por simplicidad, supondremos que en la lista no hay ningún valor igual a $p$. Este es un problema cuya utilidad veremos más adelante, cuando estudiemos el algoritmo de ordenación Quicksort.\n",
        "\n",
        "La solución clásica para este problema es la de **Hoare**, el autor de Quicksort, y se basa en ir identificando elementos menores o mayores que $p$, y moviéndolos hacia el extremo izquierdo o derecho de la lista, según corresponda. Esto corresponde al siguiente invariante:\n",
        "\n",
        "![particio-Hoare](https://github.com/femunoz/AED-Apuntes/blob/main/contenidos/recursos/particion-Hoare.png?raw=1)\n",
        "\n",
        "En este invariante, $i$ y $j$ son los primeros elementos desconocidos (esto es, aún no identificados como menores o mayores), viniendo desde cada extremo."
      ]
    },
    {
      "cell_type": "code",
      "execution_count": null,
      "metadata": {
        "id": "5ywJitM8ltbz"
      },
      "outputs": [],
      "source": [
        "def particionHoare(a,p):\n",
        "    # retorna el punto de corte, el número de elementos <p y la lista particionada\n",
        "    n=len(a)\n",
        "    (i,j)=(0,n-1) #inicialmente todos los elementos son desconocidos\n",
        "    while i<=j: # aún quedan elementos desconocidos\n",
        "        if a[i]<p:\n",
        "            i+=1\n",
        "        elif a[j]>p:\n",
        "            j-=1\n",
        "        else:\n",
        "            (a[i],a[j])=(a[j],a[i]) # intercambio\n",
        "            i+=1\n",
        "            j-=1\n",
        "    return (p,i,a)"
      ]
    },
    {
      "cell_type": "markdown",
      "metadata": {
        "id": "vMvI9m_Pltb0"
      },
      "source": [
        "Para ayudarnos a verificar que la partición se realiza correctamente, definiremos una función auxiliar:"
      ]
    },
    {
      "cell_type": "code",
      "execution_count": null,
      "metadata": {
        "id": "m1qWDVbKltb0"
      },
      "outputs": [],
      "source": [
        "def verifica_particion(t): # imprime y chequea partición\n",
        "    (p,m,a)=t\n",
        "    # p=punto de corte, m=número de elementos <p, a=lista completa particionada\n",
        "    print(a[0:m],p,a[m:])\n",
        "    print(\"Partición OK\" if (m==0 or max(a[0:m])<p) and (m==len(a) or min(a[m:])>p)\n",
        "          else \"Error\")"
      ]
    },
    {
      "cell_type": "code",
      "execution_count": null,
      "metadata": {
        "id": "8VLFhnznltb0",
        "outputId": "6bbf4f83-fa63-4157-ee5d-cf4cb45fb7f4"
      },
      "outputs": [
        {
          "name": "stdout",
          "output_type": "stream",
          "text": [
            "[36, 21, 34, 15, 37] 50 [56, 77, 65, 82, 98, 73]\n",
            "Partición OK\n"
          ]
        }
      ],
      "source": [
        "verifica_particion(particionHoare([73,21,34,98,56,37,77,65,82,15,36],50))"
      ]
    },
    {
      "cell_type": "code",
      "execution_count": null,
      "metadata": {
        "id": "nk5PHA7Oltb0",
        "outputId": "7c682ad4-db4c-47ec-b807-c170cef60973"
      },
      "outputs": [
        {
          "name": "stdout",
          "output_type": "stream",
          "text": [
            "[] 0 [73, 21, 34, 98, 56, 37, 77, 65, 82, 15, 36]\n",
            "Partición OK\n"
          ]
        }
      ],
      "source": [
        "verifica_particion(particionHoare([73,21,34,98,56,37,77,65,82,15,36],0))"
      ]
    },
    {
      "cell_type": "code",
      "execution_count": null,
      "metadata": {
        "scrolled": true,
        "id": "kVOrOVoZltb0",
        "outputId": "24b8afd3-ab4f-41bb-8659-def45245bf0e"
      },
      "outputs": [
        {
          "name": "stdout",
          "output_type": "stream",
          "text": [
            "[73, 21, 34, 98, 56, 37, 77, 65, 82, 15, 36] 100 []\n",
            "Partición OK\n"
          ]
        }
      ],
      "source": [
        "verifica_particion(particionHoare([73,21,34,98,56,37,77,65,82,15,36],100))"
      ]
    },
    {
      "cell_type": "markdown",
      "metadata": {
        "id": "UJY4XjPQltb0"
      },
      "source": [
        "---"
      ]
    },
    {
      "cell_type": "markdown",
      "metadata": {
        "id": "dSeoeWX3ltb0"
      },
      "source": [
        "## Ejemplo de programación con invariantes: Calcular $y = x^n$\n",
        "\n",
        "Supongamos que no tuviéramos una operación de elevación a potencia, y que necesitáramos calcular $x^n$ para $n$ entero no negativo.\n",
        "El algoritmo obvio es calcular $x*x*\\cdots *x$ ($n$ veces):"
      ]
    },
    {
      "cell_type": "code",
      "execution_count": null,
      "metadata": {
        "id": "hlsjEC_tltb0"
      },
      "outputs": [],
      "source": [
        "def potencia(x, n):\n",
        "    y=1\n",
        "    for k in range(0,n):\n",
        "        y*=x\n",
        "    return y"
      ]
    },
    {
      "cell_type": "code",
      "execution_count": null,
      "metadata": {
        "id": "TWSkvRBSltb0",
        "outputId": "ebbc61d2-04e4-48d4-c9c7-fcaff36f9e1c"
      },
      "outputs": [
        {
          "name": "stdout",
          "output_type": "stream",
          "text": [
            "1024\n"
          ]
        }
      ],
      "source": [
        "print(potencia(2,10))"
      ]
    },
    {
      "cell_type": "markdown",
      "metadata": {
        "id": "vYxP29Dsltb0"
      },
      "source": [
        "El invariante, esto es, lo que se cumple al comenzar cada nueva iteración es $y = x^k$. Así, al inicio, cuando $k=0$, se tiene $y=1$ (inicialización), y al término, cuando $y=n$, se tiene la condición final buscada. La preservación del invariante consiste en multiplicar $y$ por $x$, porque así se sigue cumpliendo el invariante cuando $k$ se incrementa en $1$.\n",
        "\n",
        "Este algoritmo ejecuta $n$ multiplicaciones para calcular $x^n$ y, si tomamos en cuenta todo lo que hace, es evidente que demora un tiempo proporcional a $n$, lo cual escribiremos $O(n)$ y lo leeremos \"del orden de $n$\". (Más adelante definiremos precisamente esta notación, y veremos que podríamos ser más precisos todavía al describir el tiempo que demora un algoritmo)\n",
        "\n",
        "¿Será posible calcular una potencia de manera más eficiente?\n",
        "\n",
        "Para ver cómo podríamos mejorar el algoritmo, comenzaremos por reescribirlo de modo que la variable $k$ vaya disminuyendo en lugar de ir aumentando, usando para ello la instrucción `while`:"
      ]
    },
    {
      "cell_type": "code",
      "execution_count": null,
      "metadata": {
        "id": "Z5Ps7smUltb0"
      },
      "outputs": [],
      "source": [
        "def potencia(x, n):\n",
        "    y=1\n",
        "    k=n\n",
        "    while k>0:\n",
        "        y*=x\n",
        "        k-=1\n",
        "    return y"
      ]
    },
    {
      "cell_type": "code",
      "execution_count": null,
      "metadata": {
        "id": "cVpv5imFltb0",
        "outputId": "f4cd80dc-44d3-4c82-e569-341e842d4055"
      },
      "outputs": [
        {
          "name": "stdout",
          "output_type": "stream",
          "text": [
            "1024\n"
          ]
        }
      ],
      "source": [
        "print(potencia(2,10))"
      ]
    },
    {
      "cell_type": "markdown",
      "metadata": {
        "id": "VmV4k9skltb0"
      },
      "source": [
        "El invariante en este caso sería $y = x^{n-k}$ o, lo que es lo mismo, $y * x^k = x^n$.\n",
        "\n",
        "El reescribirlo de esta manera nos permite hacer el siguiente truco: vamos a introducir una variable $z$, cuyo valor inicial es $x$, y reformular el invariante como $y * z^k = x^n$ y preservarlo aprovechando que $y*z^k = (y*z)*z^{k-1}$:"
      ]
    },
    {
      "cell_type": "code",
      "execution_count": null,
      "metadata": {
        "id": "rVtJeWfUltb0"
      },
      "outputs": [],
      "source": [
        "def potencia(x, n):\n",
        "    y=1\n",
        "    k=n\n",
        "    z=x\n",
        "    while k>0:\n",
        "        y*=z\n",
        "        k-=1\n",
        "    return y"
      ]
    },
    {
      "cell_type": "code",
      "execution_count": null,
      "metadata": {
        "id": "TVcxJnEpltb0",
        "outputId": "487be05c-a1d0-4c24-a6b8-28705071d8b2"
      },
      "outputs": [
        {
          "name": "stdout",
          "output_type": "stream",
          "text": [
            "1024\n"
          ]
        }
      ],
      "source": [
        "print(potencia(2,10))"
      ]
    },
    {
      "cell_type": "markdown",
      "metadata": {
        "id": "exf-L6IAltb0"
      },
      "source": [
        "Este cambio podría parecer ocioso, pero gracias a él ahora tenemos un grado adicional de libertad: en efecto, podemos modificar la variable $z$ en la medida que eso no haga que el invariante deje de cumplirse.\n",
        "\n",
        "En particular, una oportunidad de hacer esto aparece cuando $k$ es par. En ese caso, como $z^n=(z^2)^{n/2}$, si elevamos $z$ al cuadrado y al mismo tiempo dividimos $k$ a la mitad, ambos cambios se complementan para hacer que el invariante se preserve. El algoritmo resultante se llama el *algoritmo binario*."
      ]
    },
    {
      "cell_type": "code",
      "execution_count": null,
      "metadata": {
        "id": "geQ_P_zSltb0"
      },
      "outputs": [],
      "source": [
        "def potencia(x, n):\n",
        "    y=1\n",
        "    k=n\n",
        "    z=x\n",
        "    while k>0:\n",
        "        if k%2==0: # caso k par\n",
        "            z=z*z\n",
        "            k//=2\n",
        "        else:      # caso k impar\n",
        "            y*=z\n",
        "            k-=1\n",
        "    return y"
      ]
    },
    {
      "cell_type": "code",
      "execution_count": null,
      "metadata": {
        "id": "4FjwKtX1ltb0",
        "outputId": "77076e5c-ca69-495b-bbd1-6eb6baac4679"
      },
      "outputs": [
        {
          "name": "stdout",
          "output_type": "stream",
          "text": [
            "1024\n"
          ]
        }
      ],
      "source": [
        "print(potencia(2,10))"
      ]
    },
    {
      "cell_type": "markdown",
      "metadata": {
        "id": "Osf_87Geltb0"
      },
      "source": [
        "Este algoritmo admite todavía una pequeña optimización. Cuando $k$ se divide por $2$, no solo se preserva el invariante, sino que además $k$ sigue siendo $>0$, y por lo tanto no es necesario en ese caso volver a preguntar por la condición del `while`. El algoritmo queda como sigue:"
      ]
    },
    {
      "cell_type": "code",
      "execution_count": null,
      "metadata": {
        "id": "I8rS0h_wltb0"
      },
      "outputs": [],
      "source": [
        "def potencia(x, n):\n",
        "    y=1\n",
        "    k=n\n",
        "    z=x\n",
        "    while k>0:\n",
        "        while k%2==0: # caso k par\n",
        "            z=z*z\n",
        "            k//=2\n",
        "        y*=z # aquí estamos seguros que k es impar\n",
        "        k-=1\n",
        "    return y"
      ]
    },
    {
      "cell_type": "code",
      "execution_count": null,
      "metadata": {
        "id": "hNANTeVAltb1",
        "outputId": "a14f12c3-3e40-499f-be4d-8d57355faae5"
      },
      "outputs": [
        {
          "name": "stdout",
          "output_type": "stream",
          "text": [
            "1024\n"
          ]
        }
      ],
      "source": [
        "print(potencia(2,10))"
      ]
    },
    {
      "cell_type": "markdown",
      "metadata": {
        "id": "URzaisHNltb1"
      },
      "source": [
        "Este algoritmo (en cualquiera de las dos últimas versiones) se llama el *algoritmo binario*, y es mucho más eficiente que el algoritmo inicial. Cada vez que se da el caso par, $k$ disminuye a a mitad, y eso ocurre al menos la mitad de las veces. Pero si $k$ comienza con el valor $n$, la operación de dividir por $2$ se puede ejecutar a lo más $\\log_2{n}$ veces, por lo tanto el tiempo total de ejecución es $O(\\log_2{n})$, en lugar de $O(n)$.\n",
        "\n",
        "Decimos que el algoritmo original era de tiempo lineal, y que el algoritmo binario es de tiempo logarítmico. Para $n$ grande, la diferencia de eficiencia es muy grande en favor del algoritmo binario.\n",
        "\n",
        "Una observación importante es que para que el algoritmo binario funcione, solo es necesario que $x$ $y$, $z$ pertenezcan a un conjunto para el cual hay definida una operación multiplicativa que sea asociativa y que tenga un elemento neutro. Por lo tanto, este algoritmo no solo sirve para elevar a potencia números enteros o reales, sino que además, por ejemplo, para calcular potencias de *matrices*."
      ]
    },
    {
      "cell_type": "markdown",
      "metadata": {
        "id": "U25aM3htltb1"
      },
      "source": [
        "### ¿Por qué se llama \"algoritmo binario\"?\n",
        "\n",
        "Existe una relación muy interesante entre el funcionamiento de este algoritmo y la representación binaria del número $n$.\n",
        "\n",
        "Para quienes no lo recuerden (o lo estén viendo por primera vez), cuando un número se escribe en base $10$, por ejemplo, el número $2019$, esto significa\n",
        "\n",
        "$$\n",
        "(2019)_{10} = 2 \\cdot 10^3 + 0 \\cdot 10^2 + 1 \\cdot 10^1 + 9 \\cdot 10^0\n",
        "$$\n",
        "\n",
        "De manera análoga, un número escrito en base $2$, por ejemplo $110101$ significa\n",
        "\n",
        "$$\n",
        "(110101)_2 = 1 \\cdot 2^5 + 1 \\cdot 2^4 + 0 \\cdot 2^3 + 1 \\cdot 2^2 + 0 \\cdot 2^1 + 1 \\cdot 2^0\n",
        "$$\n",
        "\n",
        "lo cual equivale a 53 en decimal.\n",
        "\n",
        "Más en general, un número puede estar escrito en base $b$:\n",
        "\n",
        "$$\n",
        "(\\ldots d_3 d_2 d_1 d_0)_b = \\sum_{k \\ge 0}{d_k b^k}\n",
        "$$\n",
        "\n",
        "donde $0\\le d_k \\le b-1$ para todo $k$.\n",
        "\n",
        "Volviendo ahora al problema de calcular $y=x^n$, consideremos como ejemplo de $n=53$.\n",
        "Si escribimos el exponente en binario, tenemos que\n",
        "\n",
        "$$\n",
        "\\begin{align}\n",
        "x^{53} &= x^{(110101)_2}\\\\\n",
        "  &=x^{1 \\cdot 2^5 + 1 \\cdot 2^4 + 0 \\cdot 2^3 + 1 \\cdot 2^2 + 0 \\cdot 2^1 + 1 \\cdot 2^0}\\\\\n",
        "  &=x^{2^5}\\cdot x^{2^4}\\cdot x^{2^2}\\cdot x^{2^0}\\\\\n",
        "  &=x^{32}\\cdot x^{16}\\cdot x^{4}\\cdot x^{1}\\\\\n",
        "\\end{align}\n",
        "$$\n",
        "\n",
        "Como vemos, el valor final calculado es el producto de los $x$ elevados a aquellas potencias de 2 que corresponden exactamente adonde hay un dígito $1$ en la representación binaria del número $n$. Veremos que eso es exactamente lo que hace al algoritmo.\n",
        "\n",
        "Si examinamos el algoritmo, en su primera versión, podemos ver que su estado se puede representar por una terna $(k,z,y)$, la cual tiene el valor inicial $(n,x,1)$. En cada iteración tenemos dos casos:\n",
        "\n",
        "Caso $k$ par:\n",
        "$$\n",
        "(k,z,y) \\rightarrow (\\frac{k}{2},z^2,y)\n",
        "$$\n",
        "\n",
        "Caso $k$ impar:\n",
        "$$\n",
        "(k,z,y) \\rightarrow (k-1,z,yz)\n",
        "$$\n",
        "\n",
        "Estas reglas adquieren una forma mucho muy simple si el número $k$ se considera escrito en binario. En esta base un número es *par* si termina en $0$ y es *impar* si termina en 1. Además, restarle $1$ a un número impar es equivalente a sustituir el $1$ de más a la derecha por un $0$, y dividir por $2$ un número par es equivalente a eliminar el $0$ de más a la derecha.\n",
        "\n",
        "Con esto, podemos reformular nuestras reglas, suponiendo que el número $k$ se escribe en binario en la forma $(\\alpha X)_2$, donde $X$ es el dígito de más a la derecha y $\\alpha$ es la secuencia de dígitos que lo preceden. Entonces\n",
        "\n",
        "Caso $k$ terminado en $0$:\n",
        "$$\n",
        "((\\alpha 0)_2,z,y) \\rightarrow ((\\alpha)_2,z^2,y)\n",
        "$$\n",
        "\n",
        "Caso $k$ terminado en $1$:\n",
        "$$\n",
        "((\\alpha 1)_2,z,y) \\rightarrow ((\\alpha 0)_2,z,yz)\n",
        "$$\n",
        "\n",
        "En palabras: la variable $z$ va tomando sucesivamente los valores $x^1,x^2,x^4,x^8,\\ldots$, y el valor final calculado es $x$ elevado a la suma aquellas potencias que corresponden exactamente adonde hay un dígito $1$ en la representación binaria del número $n$.\n",
        "\n",
        "La siguiente tabla muestra la ejecución del algoritmo para $n=53$:\n",
        "\n",
        "| $k$ | $z$ | $y$ |\n",
        "| --- | --- | --- |\n",
        "| $(110101)_2$ | $x^1$ | $1$ |\n",
        "| $(110100)_2$ | $x^1$ | $x^1$ |\n",
        "| $(11010)_2$ | $x^2$ | $x^1$ |\n",
        "| $(1101)_2$ | $x^4$ | $x^1$ |\n",
        "| $(1100)_2$ | $x^4$ | $x^{1+4}=x^5$ |\n",
        "| $(110)_2$ | $x^8$ | $x^{1+4}=x^5$ |\n",
        "| $(11)_2$ | $x^{16}$ | $x^{1+4}=x^5$ |\n",
        "| $(10)_2$ | $x^{16}$ | $x^{1+4+16}=x^{21}$ |\n",
        "| $(1)_2$ | $x^{32}$ | $x^{1+4+16}=x^{21}$ |\n",
        "| $(0)_2$ | $x^{32}$ | $x^{1+4+16+32}=x^{53}$ |\n"
      ]
    },
    {
      "cell_type": "markdown",
      "metadata": {
        "id": "CfUyEwZeltb1"
      },
      "source": [
        "## Ejemplo de programación con invariantes: Evaluación de un polinomio\n",
        "\n",
        "Supongamos que se tiene un polinomio\n",
        "\n",
        "$$\n",
        "P(x) = \\sum_{0<=k<=n}{a_k x^k}\n",
        "$$\n",
        "\n",
        "y se desea calcular su valor en un punto dado $x$.\n",
        "\n",
        "Una solución trivial se puede obtener directamente de la fórmula anterior:"
      ]
    },
    {
      "cell_type": "code",
      "execution_count": null,
      "metadata": {
        "id": "ovMKveb2ltb1"
      },
      "outputs": [],
      "source": [
        "def evalp(a,x):\n",
        "    \"\"\"Evalúa en el punto x el polinomio cuyos coeficientes son a[0], a[1],...\n",
        "    Retorna el valor calculado\n",
        "    \"\"\"\n",
        "    P=0\n",
        "    for k in range(0,len(a)):\n",
        "        # Invariante: P=a[0]+a[1]*x+...+a[k-1]*x**(k-1)\n",
        "        P += a[k]*x**k\n",
        "    return P"
      ]
    },
    {
      "cell_type": "markdown",
      "metadata": {
        "id": "6uc3GOhOltb1"
      },
      "source": [
        "Podemos probar esta función evaluando el polinomio\n",
        "\n",
        "$$\n",
        "P(x) = 5+2x-3x^2+4x^3\n",
        "$$\n",
        "\n",
        "en el punto $x=2$:"
      ]
    },
    {
      "cell_type": "code",
      "execution_count": null,
      "metadata": {
        "id": "qm1l6sE-ltb1",
        "outputId": "6178f63a-f2de-41aa-a7ce-3cbb8933b3bd"
      },
      "outputs": [
        {
          "name": "stdout",
          "output_type": "stream",
          "text": [
            "29\n"
          ]
        }
      ],
      "source": [
        "print(evalp([5,2,-3,4],2))"
      ]
    },
    {
      "cell_type": "markdown",
      "metadata": {
        "id": "o5ZQ3NTyltb1"
      },
      "source": [
        "El problema es que este algoritmo puede ser ineficiente. Si el sistema calcula ``x**k`` de manera simple, el tiempo total de ejecución sería del orden de $n^2$, y si lo calcula usando el algoritmo binario, el tiempo sería del orden de $n\\log{n}$. Veremos que esto se puede reducir a tiempo lineal.\n",
        "\n",
        "Para esto, vamos a introducir una variable adicional, digamos $y$, que almacene el valor de $x^k$ necesario para cada iteración. Para preservar este invariante, al final de cada vuelta del ciclo debemos dejarla multiplicada por $x$, para que tenga el valor correcto al iniciarse la siguiente iteración:"
      ]
    },
    {
      "cell_type": "code",
      "execution_count": null,
      "metadata": {
        "id": "8_oA9AEHltb1"
      },
      "outputs": [],
      "source": [
        "def evalp(a,x):\n",
        "    \"\"\"Evalúa en el punto x el polinomio cuyos coeficientes son a[0], a[1],...\n",
        "    Retorna el valor calculado\n",
        "    \"\"\"\n",
        "    P=0\n",
        "    y=1\n",
        "    for k in range(0,len(a)):\n",
        "        # Invariante: P=a[0]+a[1]*x+...+a[k-1]*x**(k-1) and y=x**k\n",
        "        P += a[k]*y\n",
        "        y *= x\n",
        "    return P"
      ]
    },
    {
      "cell_type": "code",
      "execution_count": null,
      "metadata": {
        "id": "PjLWBs5fltb1",
        "outputId": "d985e03c-92f7-4d42-979a-980609cb8fb9"
      },
      "outputs": [
        {
          "name": "stdout",
          "output_type": "stream",
          "text": [
            "29\n"
          ]
        }
      ],
      "source": [
        "print(evalp([5,2,-3,4],2))"
      ]
    },
    {
      "cell_type": "markdown",
      "metadata": {
        "id": "WzBRc87yltb1"
      },
      "source": [
        "---"
      ]
    },
    {
      "cell_type": "markdown",
      "metadata": {
        "id": "LqVQk3fwltb1"
      },
      "source": [
        "## Numpy y Arreglos\n",
        "\n",
        "Numpy es la principal biblioteca para computación científica en Python.\n",
        "\n",
        "Una de las características de Numpy es que provee arreglos multidimensionales de alta eficiencia. Mientras la gran flexibilidad de las listas de Python puede hacer que no sea muy eficiente el acceso a elementos específicos, los arreglos de Numpy aseguran el acceso a cada elemento en tiempo constante. Por esa razón, utilizaremos estos arreglos cuando necesitemos asegurar la eficiencia de la implementación de los algoritmos.\n"
      ]
    },
    {
      "cell_type": "code",
      "execution_count": null,
      "metadata": {
        "id": "Pdvtxw2iltb1",
        "outputId": "3efd9261-73de-45cf-e454-520e979a78bb"
      },
      "outputs": [
        {
          "name": "stdout",
          "output_type": "stream",
          "text": [
            "4.6\n"
          ]
        }
      ],
      "source": [
        "import numpy as np\n",
        "\n",
        "a = np.array([6.5, 5.2, 4.6, 7.0, 4.3])\n",
        "print(a[2])"
      ]
    },
    {
      "cell_type": "code",
      "execution_count": null,
      "metadata": {
        "id": "BO-RbQHsltb1",
        "outputId": "b658c923-0642-4385-a93d-b82c2032d4e7"
      },
      "outputs": [
        {
          "name": "stdout",
          "output_type": "stream",
          "text": [
            "5\n"
          ]
        }
      ],
      "source": [
        "print(len(a))"
      ]
    },
    {
      "cell_type": "markdown",
      "metadata": {
        "id": "KwznVG8cltb1"
      },
      "source": [
        "Hay varias formas de crear arreglos inicializados con ceros, unos, valores constantes o valores aleatorios."
      ]
    },
    {
      "cell_type": "code",
      "execution_count": null,
      "metadata": {
        "id": "rHiPRYseltb1",
        "outputId": "5371e7d4-acad-46de-ca13-c7305449bc21"
      },
      "outputs": [
        {
          "name": "stdout",
          "output_type": "stream",
          "text": [
            "[1. 1. 1. 1. 1. 1. 1. 1. 1. 1.]\n"
          ]
        }
      ],
      "source": [
        "b = np.ones(10)\n",
        "print(b)"
      ]
    },
    {
      "cell_type": "code",
      "execution_count": null,
      "metadata": {
        "id": "GvhVOfP-ltb1",
        "outputId": "6df6cdc0-47a6-4400-83b9-dd5d8a48bc05"
      },
      "outputs": [
        {
          "name": "stdout",
          "output_type": "stream",
          "text": [
            "[0 0 0 0 0 0 0]\n"
          ]
        }
      ],
      "source": [
        "c = np.zeros(7,dtype=int)\n",
        "print(c)"
      ]
    },
    {
      "cell_type": "markdown",
      "metadata": {
        "id": "XtyoMLPIltb1"
      },
      "source": [
        "En los dos ejemplos anteriores mostramos la diferencia que se produce al explicitar el tipo de datos del arreglo. En el primero, obtenemos el *default*, que es flotante, mientras en el segundo forzamos a que sea entero."
      ]
    },
    {
      "cell_type": "code",
      "execution_count": null,
      "metadata": {
        "id": "1xfW1r8Lltb1",
        "outputId": "7fddbe87-9aac-40c4-9887-5454843fc0dd"
      },
      "outputs": [
        {
          "name": "stdout",
          "output_type": "stream",
          "text": [
            "[2 2 2 2 2]\n"
          ]
        }
      ],
      "source": [
        "c = np.full(5, 2)\n",
        "print(c)"
      ]
    },
    {
      "cell_type": "code",
      "execution_count": null,
      "metadata": {
        "id": "KKv6S5URltb1",
        "outputId": "4c85beb1-9cbb-488e-a107-ebe50d75b47a"
      },
      "outputs": [
        {
          "name": "stdout",
          "output_type": "stream",
          "text": [
            "[0.39229597 0.99294597 0.16978406 0.49579816 0.3654721  0.43266937]\n"
          ]
        }
      ],
      "source": [
        "d = np.random.random(6)\n",
        "print(d)"
      ]
    },
    {
      "cell_type": "markdown",
      "metadata": {
        "id": "qrkWayx9ltb2"
      },
      "source": [
        "También es posible crear y manejar arreglos de varias dimensiones."
      ]
    },
    {
      "cell_type": "code",
      "execution_count": null,
      "metadata": {
        "id": "xDvXNKvXltb2",
        "outputId": "be86518d-47c6-4553-cd94-041c7001f250"
      },
      "outputs": [
        {
          "name": "stdout",
          "output_type": "stream",
          "text": [
            "[[1 2 3]\n",
            " [4 5 6]]\n"
          ]
        }
      ],
      "source": [
        "a = np.array([[1,2,3],[4,5,6]])\n",
        "print(a)"
      ]
    },
    {
      "cell_type": "code",
      "execution_count": null,
      "metadata": {
        "id": "3Fah5Aghltb2",
        "outputId": "de5ff79d-6a72-4e96-fd4f-3cba2ec14028"
      },
      "outputs": [
        {
          "name": "stdout",
          "output_type": "stream",
          "text": [
            "3\n"
          ]
        }
      ],
      "source": [
        "print(a[0,2])"
      ]
    },
    {
      "cell_type": "code",
      "execution_count": null,
      "metadata": {
        "id": "gx9ZhdDWltb2",
        "outputId": "99688362-7db6-48cb-c351-4f4a4808c535"
      },
      "outputs": [
        {
          "name": "stdout",
          "output_type": "stream",
          "text": [
            "2 3\n"
          ]
        }
      ],
      "source": [
        "(m,n)=np.shape(a)\n",
        "print(m,n)"
      ]
    },
    {
      "cell_type": "code",
      "execution_count": null,
      "metadata": {
        "id": "a4xGi1Wjltb2",
        "outputId": "89aca302-b27f-4122-ab49-f265de53a45d"
      },
      "outputs": [
        {
          "name": "stdout",
          "output_type": "stream",
          "text": [
            "[[0. 0. 0.]\n",
            " [0. 0. 0.]\n",
            " [0. 0. 0.]]\n"
          ]
        }
      ],
      "source": [
        "b = np.zeros((3,3))\n",
        "print(b)"
      ]
    },
    {
      "cell_type": "code",
      "execution_count": null,
      "metadata": {
        "id": "0KMAzrAxltb2",
        "outputId": "bdd6a3dd-5de0-4d44-8c8c-757d8348223c"
      },
      "outputs": [
        {
          "name": "stdout",
          "output_type": "stream",
          "text": [
            "[[1. 0. 0.]\n",
            " [0. 1. 0.]\n",
            " [0. 0. 1.]]\n"
          ]
        }
      ],
      "source": [
        "c = np.eye(3)\n",
        "print(c)"
      ]
    },
    {
      "cell_type": "markdown",
      "metadata": {
        "id": "btJBo5xbltb2"
      },
      "source": [
        "## Ejemplos de programación con invariantes: Ordenación"
      ]
    },
    {
      "cell_type": "markdown",
      "metadata": {
        "id": "JzSfWljTltb2"
      },
      "source": [
        "## Ordenación por inserción\n",
        "\n",
        "Supongamos que se tiene un arreglo $a$, de tamaño $n$, y queremos reordenar los datos almacenados en su interior de modo que queden en orden ascendente.\n",
        "\n",
        "El método de **Ordenación por Inserción** se basa en formar en el sector izquierdo del arreglo un subconjunto ordenado, en el cual se van insertando uno por uno los elementos restantes. Para la inicialización, comenzamos con un subconjunto ordenado de tamaño 0, y el proceso termina cuando el subconjunto ordenado llega a tener tamaño $n$. El invariante se puede visualizar como:\n",
        "\n",
        "![insercion](https://github.com/femunoz/AED-Apuntes/blob/main/recursos/insercion.png?raw=1)\n",
        "\n",
        "La variable $k$ indica el tamaño del subconjunto ordenado. Equivalentemente, $k$ es el subíndice del primer elemento todavía no ordenado, y que será el que se insertará en esta oportunidad."
      ]
    },
    {
      "cell_type": "code",
      "execution_count": null,
      "metadata": {
        "id": "3Ndj-Bk1ltb2"
      },
      "outputs": [],
      "source": [
        "# Ordenación Por Inserción\n",
        "def ordena_insercion(a):\n",
        "    n=len(a)\n",
        "    for k in range(0,n):\n",
        "        insertar(a,k)"
      ]
    },
    {
      "cell_type": "markdown",
      "metadata": {
        "id": "o_1dE0AXltb2"
      },
      "source": [
        "Este algoritmo todavía no es ejecutable, porque falta definir la función `insertar`, que se encarga de tomar $a[k]$ e insertarlo entre los anteriores. La forma más simple de hacer esto es a través de intercambios sucesivos:"
      ]
    },
    {
      "cell_type": "code",
      "execution_count": null,
      "metadata": {
        "id": "YtOhyfIiltb2"
      },
      "outputs": [],
      "source": [
        "# Insertar a[k] entre los elementos anteriores preservando el orden ascendente (versión 1)\n",
        "def insertar(a, k):\n",
        "    j=k # señala la posición del elemento que está siendo insertado\n",
        "    while j>0 and a[j]<a[j-1]:\n",
        "        (a[j], a[j-1]) = (a[j-1], a[j])\n",
        "        j-=1"
      ]
    },
    {
      "cell_type": "markdown",
      "metadata": {
        "id": "cIK-AdTHltb2"
      },
      "source": [
        "Para poder probar este algoritmo, generemos un arreglo con números aleatorios y ordenémoslo:"
      ]
    },
    {
      "cell_type": "code",
      "execution_count": null,
      "metadata": {
        "id": "F6L9FF86ltb2",
        "outputId": "464ce694-546c-4267-e7a9-ff030e900f3b"
      },
      "outputs": [
        {
          "name": "stdout",
          "output_type": "stream",
          "text": [
            "[0.55230218 0.83643983 0.18410935 0.38172433 0.02348297 0.87717298]\n",
            "[0.02348297 0.18410935 0.38172433 0.55230218 0.83643983 0.87717298]\n"
          ]
        }
      ],
      "source": [
        "a = np.random.random(6)\n",
        "print(a)\n",
        "ordena_insercion(a)\n",
        "print(a)"
      ]
    },
    {
      "cell_type": "markdown",
      "metadata": {
        "id": "W63TrkEXltb2"
      },
      "source": [
        "Si observamos el algoritmo de inserción, podemos ver que en los intercambios siempre uno de los dos elementos involucrados es el que se está insertando, el cual pasa por muchos lugares provisorios hasta llegar finalmente a su ubicación definitiva. Esto sugiere que podemos ahorrar trabajo si en lugar de hacer todos esos intercambios, sacamos primero el elemento a insertar hacia una variable auxiliar, luego vamos moviendo los restantes elementos hacia la derecha, y al final movemos directamente el nuevo elemento desde la variable auxiliar hasta su posición definitiva:"
      ]
    },
    {
      "cell_type": "code",
      "execution_count": null,
      "metadata": {
        "id": "LCDT3gjLltb2"
      },
      "outputs": [],
      "source": [
        "# Insertar a[k] entre los elementos anteriores preservando el orden ascendente (versión 2)\n",
        "def insertar(a, k):\n",
        "    b=a[k] # b almacena transitoriamente al elemento a[k]\n",
        "    j=k # señala la posición del lugar \"vacío\"\n",
        "    while j>0 and b<a[j-1]:\n",
        "        a[j]=a[j-1]\n",
        "        j-=1\n",
        "    a[j]=b"
      ]
    },
    {
      "cell_type": "code",
      "execution_count": null,
      "metadata": {
        "id": "jKqM3gTBltb2",
        "outputId": "8f692e6f-12e4-4acb-d19a-f9cc5b4801fc"
      },
      "outputs": [
        {
          "name": "stdout",
          "output_type": "stream",
          "text": [
            "[0.40361217 0.53495185 0.53249129 0.11225909 0.95760226 0.79345432]\n",
            "[0.11225909 0.40361217 0.53249129 0.53495185 0.79345432 0.95760226]\n"
          ]
        }
      ],
      "source": [
        "a = np.random.random(6)\n",
        "print(a)\n",
        "ordena_insercion(a)\n",
        "print(a)"
      ]
    },
    {
      "cell_type": "markdown",
      "metadata": {
        "id": "P2wQH9J0ltb2"
      },
      "source": [
        "Para analizar la eficiencia de este algoritmo, podemos considerar varios casos:\n",
        "* Mejor caso: Si el arreglo ya viene ordenado, el ciclo de la función `insertar` termina de inmediato, así que esa función demora tiempo constante, y el proceso completo demora tiempo $O(n)$, lineal en $n$.\n",
        "* Peor caso: Si el arreglo viene originalmente en orden decreciente, el ciclo de la función `insertar` hace el máximo de iteraciones ($k$), y la suma de todos esos costos da un total de $O(n^2)$, cuadrático en $n$.\n",
        "* Caso promedio: Si el arreglo viene en orden aleatorio, el número promedio de iteraciones que hace el ciclo de la función `insertar` es aproximadamente $k/2$, y la suma de todos esos costos igual da un total de $O(n^2)$. Esto es, el costo promedio también es cuadrático."
      ]
    },
    {
      "cell_type": "markdown",
      "metadata": {
        "id": "YrQJVIGsltb2"
      },
      "source": [
        "## Ordenación por Selección\n",
        "\n",
        "El método de **Ordenación por Selección** se basa en extraer el máximo elemento y moverlo hacia el extremo derecho del arreglo, y repetir este proceso entre los elementos restantes hasta que todos hayan sido extraídos. El invariante se puede visualizar como:\n",
        "\n",
        "![ord-seleccion](https://github.com/femunoz/AED-Apuntes/blob/main/recursos/seleccion.png?raw=1)\n",
        "\n",
        "La variable $k$ indica el tamaño del subconjunto que todavía falta por procesar. Equivalentemente, es el subíndice del primer elemento que ya pertenece al subconjunto ordenado."
      ]
    },
    {
      "cell_type": "code",
      "execution_count": null,
      "metadata": {
        "id": "Qo5HaBq2ltb2"
      },
      "outputs": [],
      "source": [
        "# Ordenación por Selección\n",
        "def ordena_seleccion(a):\n",
        "    n=len(a)\n",
        "    for k in range(n,1,-1): # Paramos cuando todavía queda 1 elemento \"desordenado\" (¿por qué está bien eso?)\n",
        "        j=pos_maximo(a,k) # Encuentra posición del máximo entre a[0],...,a[k-1]\n",
        "        (a[j],a[k-1])=(a[k-1],a[j])"
      ]
    },
    {
      "cell_type": "code",
      "execution_count": null,
      "metadata": {
        "id": "J2EnKJKgltb2"
      },
      "outputs": [],
      "source": [
        "# Encuentra posición del máximo entre a[0],...,a[k-1]\n",
        "def pos_maximo(a, k):\n",
        "    j=0 # j señala la posición del máximo\n",
        "    for i in range(1,k):\n",
        "        if a[i]>a[j]: # Encontramos un nuevo máximo\n",
        "            j=i\n",
        "    return j"
      ]
    },
    {
      "cell_type": "markdown",
      "metadata": {
        "id": "ETQv41KMltb2"
      },
      "source": [
        "Nuevamente, probamos nuestro algoritmo con un arreglo aleatorio:"
      ]
    },
    {
      "cell_type": "code",
      "execution_count": null,
      "metadata": {
        "id": "6Qn8oRRsltb2",
        "outputId": "7ac26d15-6c38-414f-acd2-e036afd2f5fc"
      },
      "outputs": [
        {
          "name": "stdout",
          "output_type": "stream",
          "text": [
            "[0.19157218 0.79292674 0.15078436 0.13777891 0.66594199 0.21232741]\n",
            "[0.13777891 0.15078436 0.19157218 0.21232741 0.66594199 0.79292674]\n"
          ]
        }
      ],
      "source": [
        "a = np.random.random(6)\n",
        "print(a)\n",
        "ordena_seleccion(a)\n",
        "print(a)"
      ]
    },
    {
      "cell_type": "markdown",
      "metadata": {
        "id": "waljTWe5ltb3"
      },
      "source": [
        "En este algoritmo, siempre se recorre todo el conjunto de tamaño $k$ para encontrar el máximo, de modo que la suma de todos estos costos de un total de $O(n^2)$, en todos los casos.\n",
        "\n",
        "Más adelante veremos que hay maneras mucho más eficientes de calcular el máximo de un conjunto, una vez que se ha encontrado y extraído el máximo la primera vez.\n",
        "\n",
        "Piensen por ejemplo en un típico torneo de tenis, en donde los jugadores se van eliminando por rondas, hasta que en la final queda solo un jugador invicto: el campeón. Si hay $n$ jugadores, ese proceso requiere exactamente $n-1$ partidos. **Pero** una vez que se ha jugado todo ese torneo, hagamos un experimento mental y pensemos que habría sucedido si el primer día el campeón no hubiera podido jugar por alguna causa. Para determinar quién habría resultado campeón en esas circunstancias (o sea, para encontrar al subcampeón), **no sería necesario repetir todo el torneo, sino solo volver a jugar los partidos en los que habría participado el campeón**. Ese número de partidos es mucho menor a $n$, y en realidad no es difícil ver que es logarítmico. Y eso puede repetirse para encontrar al tercero, al cuarto, etc., siempre con el mismo costo logarítmico.\n",
        "\n",
        "Si sumamos todos esos costos, da un total de $O(n\\log{n})$, en el peor caso.\n",
        "\n",
        "Lo anterior es una \"demostración de factibilidad\" de que existen algoritmos de ordenación de costo $O(n\\log{n})$, más eficientes que $O(n^2)$. Más adelante en el curso veremos algoritmos prácticos que alcanzan esta eficiencia."
      ]
    },
    {
      "cell_type": "markdown",
      "metadata": {
        "id": "3sNfbTFtltb3"
      },
      "source": [
        "## Ordenación de la Burbuja\n",
        "\n",
        "Este algoritmo se basa en ir haciendo pasadas sucesivas de izquierda a derecha sobre el arreglo, y cada vez que encuentra dos elementos adyacentes fuera de orden, los intercambia. Así, el arreglo va quedando cada vez \"más ordenado\", hasta que finalmente esté totalmente ordenado.\n",
        "\n",
        "Analizando el efecto de una pasada de izquierda a derecha, vemos que, aparte de los pequeños desórdenes que pueda ir arreglando por el camino, una vez que el algoritmo se encuentra con el máximo, los intercambios lo empiezan a trasladar paso a paso hacia la derecha, hasta que finalmente queda en el extremo derecho del arreglo. Eso significa que ya ha llegado a su posición definitiva, y no necesitamos volver a tocarlo. Por lo tanto, el algoritmo puede ignorar esos elementos al extremo derecho, los que por construcción están ordenados y son mayores que todos los de la izquierda. Esto lo podemos visualizar como:\n",
        "\n",
        "![ord-seleccion](https://github.com/femunoz/AED-Apuntes/blob/main/recursos/seleccion.png?raw=1)\n",
        "\n",
        "¡El mismo invariante que la Ordenación por Selección! Sin embargo, el algoritmo resultante es distinto."
      ]
    },
    {
      "cell_type": "code",
      "execution_count": null,
      "metadata": {
        "id": "mipEWPY-ltb3"
      },
      "outputs": [],
      "source": [
        "# Ordenación de la Burbuja (versión 1)\n",
        "def ordena_burbuja(a):\n",
        "    n=len(a)\n",
        "    k=n # número de elementos todavía desordenados\n",
        "    while k>1:\n",
        "        # Hacer una pasada sobre a[0],...,a[k-1]\n",
        "        # intercambiando elementos adyacentes desordenados\n",
        "        for j in range(0,k-1):\n",
        "            if a[j]>a[j+1]:\n",
        "                (a[j],a[j+1])=(a[j+1],a[j])\n",
        "        # Disminuir k\n",
        "        k-=1"
      ]
    },
    {
      "cell_type": "code",
      "execution_count": null,
      "metadata": {
        "id": "x5a1VOtMltb3",
        "outputId": "d674c4a7-6d68-46d6-8817-40c248a103cc"
      },
      "outputs": [
        {
          "name": "stdout",
          "output_type": "stream",
          "text": [
            "[0.1592509  0.29551131 0.33254857 0.40328476 0.33155501 0.30588459]\n",
            "[0.1592509  0.29551131 0.30588459 0.33155501 0.33254857 0.40328476]\n"
          ]
        }
      ],
      "source": [
        "a = np.random.random(6)\n",
        "print(a)\n",
        "ordena_burbuja(a)\n",
        "print(a)"
      ]
    },
    {
      "cell_type": "markdown",
      "metadata": {
        "id": "agIcYGv9ltb3"
      },
      "source": [
        "Este algoritmo demora siempre tiempo $O(n^2)$, ¡incluso si se le da para ordenar un arregla que ya viene ordenado!\n",
        "\n",
        "No cuesta mucho introducir una variable booleana que señale si en una pasada no se ha hecho ningún intercambio, y usar esa variable para terminar el proceso cuando eso ocurre. Pero hay una manera mejor de modificar el algoritmo para aumentar su eficiencia.\n",
        "\n",
        "Para esto, introducimos una variable $i$ que recuerda el punto donde se hizo el último intercambio (el cual habría sido entre $a[i-1]$ y $a[i]$. Si a partir de ese punto ya no se encontraron elementos fuera de orden, eso quiere decir que $a[i-1]<a[i]$ y luego a partir de ahí todos los elementos están ordenados, **hasta el final del arreglo**. Por lo tanto, el invariante se preserva si hacemos $k=i$.\n",
        "\n",
        "¿Qué pasa si no hubo ningún intercambio? Para este caso, si le damos a la variable $i$ el valor inicial cero, al hacer $k=i$ tendríamos $k=0$ y el proceso terminaría automáticamente. El algoritmo resultante es el siguiente:"
      ]
    },
    {
      "cell_type": "code",
      "execution_count": null,
      "metadata": {
        "id": "XN7t7ALpltb3"
      },
      "outputs": [],
      "source": [
        "# Ordenación de la Burbuja (versión 2)\n",
        "def ordena_burbuja(a):\n",
        "    n=len(a)\n",
        "    k=n # número de elementos todavía desordenados\n",
        "    while k>1:\n",
        "        # Hacer una pasada sobre a[0],...,a[k-1]\n",
        "        # intercambiando elementos adyacentes desordenados\n",
        "        i=0\n",
        "        for j in range(0,k-1):\n",
        "            if a[j]>a[j+1]:\n",
        "                (a[j],a[j+1])=(a[j+1],a[j])\n",
        "                i=j+1 # recordamos el lugar del último intercambio\n",
        "        # Disminuir k\n",
        "        k=i"
      ]
    },
    {
      "cell_type": "code",
      "execution_count": null,
      "metadata": {
        "id": "3Lalf9Tbltb3",
        "outputId": "ca87e17a-34f1-4fbb-b785-9a109f11afef"
      },
      "outputs": [
        {
          "name": "stdout",
          "output_type": "stream",
          "text": [
            "[0.09420149 0.74028709 0.42818087 0.75324494 0.28554262 0.9882463 ]\n",
            "[0.09420149 0.28554262 0.42818087 0.74028709 0.75324494 0.9882463 ]\n"
          ]
        }
      ],
      "source": [
        "a = np.random.random(6)\n",
        "print(a)\n",
        "ordena_burbuja(a)\n",
        "print(a)"
      ]
    },
    {
      "cell_type": "markdown",
      "metadata": {
        "id": "OHQRMcalltb3"
      },
      "source": [
        "Este algoritmo aprovecha mejor el orden previo que puede trar el arreglo, y en particular ordena arreglos ordenados en tiempo lineal. Pero tanto su peor caso como su caso promedio siguen siendo cuadráticos."
      ]
    },
    {
      "cell_type": "markdown",
      "metadata": {
        "id": "g0ZceNUAltb3"
      },
      "source": [
        "## Recursividad\n",
        "\n",
        "El poder escribir funciones que se llamen a sí mismas es una herramienta muy poderosa de programación. Veremos algunos ejemplos de aplicaciones de este concepto, y más adelante veremos cómo puede conducir al diseño de algoritmos muy eficientes."
      ]
    },
    {
      "cell_type": "markdown",
      "metadata": {
        "id": "H2vtkioYltb3"
      },
      "source": [
        "## Ejemplo: Calcular $y=x^n$\n",
        "Revisemos nuevamente este problema, pero ahora desde un punto de vista recursivo. Una potencia se puede definir recursivamente de la siguiente manera:\n",
        "\n",
        "$$\n",
        "x^n =\n",
        "\\begin{cases}x * x^{n-1} & \\mbox{si }n>0 \\\\\n",
        "1 & \\mbox{si }n=0\n",
        "\\end{cases}\n",
        "$$\n",
        "\n",
        "lo cual se puede implementar directamente como una función recursiva:"
      ]
    },
    {
      "cell_type": "code",
      "execution_count": null,
      "metadata": {
        "id": "nqSEQnF5ltb3"
      },
      "outputs": [],
      "source": [
        "def potencia(x,n):\n",
        "    if n==0:\n",
        "        return 1\n",
        "    else:\n",
        "        return x * potencia(x,n-1)"
      ]
    },
    {
      "cell_type": "code",
      "execution_count": null,
      "metadata": {
        "id": "AItzI9MRltb3",
        "outputId": "2aeca087-73b3-4c72-8c1b-49335254c752"
      },
      "outputs": [
        {
          "name": "stdout",
          "output_type": "stream",
          "text": [
            "1024\n"
          ]
        }
      ],
      "source": [
        "print(potencia(2,10))"
      ]
    },
    {
      "cell_type": "markdown",
      "metadata": {
        "id": "vZP626Caltb3"
      },
      "source": [
        "El algoritmo resultante demora tiempo $O(n)$, pero  puede mejorarse si el caso $n$ par lo tratamos aparte:\n",
        "\n",
        "$$\n",
        "x^n =\n",
        "\\begin{cases}\n",
        "\\left(x^2\\right)^{n/2} & \\mbox{si }n>0\\mbox{, par} \\\\\n",
        "x * x^{n-1} & \\mbox{si }n>0\\mbox{, impar} \\\\\n",
        "1 & \\mbox{si }n=0\n",
        "\\end{cases}\n",
        "$$\n",
        "\n",
        "y la función que lo implementa es:"
      ]
    },
    {
      "cell_type": "code",
      "execution_count": null,
      "metadata": {
        "id": "-KhN-4OMltb3"
      },
      "outputs": [],
      "source": [
        "def potencia(x,n):\n",
        "    if n==0:\n",
        "        return 1\n",
        "    elif n%2==0:\n",
        "        return potencia(x*x,n//2)\n",
        "    else:\n",
        "        return x * potencia(x,n-1)"
      ]
    },
    {
      "cell_type": "code",
      "execution_count": null,
      "metadata": {
        "id": "PgU09VJPltb3",
        "outputId": "e811ce5d-61bd-45b2-b0c8-4c92d2bda958"
      },
      "outputs": [
        {
          "name": "stdout",
          "output_type": "stream",
          "text": [
            "1024\n"
          ]
        }
      ],
      "source": [
        "print(potencia(2,10))"
      ]
    },
    {
      "cell_type": "markdown",
      "metadata": {
        "id": "RurihnpOltb3"
      },
      "source": [
        "El resultado es el algoritmo binario, que demora tiempo $O(\\log{n})$, en versión recursiva."
      ]
    },
    {
      "cell_type": "markdown",
      "metadata": {
        "id": "NH0MNuyNltb3"
      },
      "source": [
        "## Recursividad vs. Iteración\n",
        "Todo algoritmo iterativo puede escribirse recursivamente. En particular, cualquier ciclo de la forma\n",
        "```python\n",
        "while C:\n",
        "    A\n",
        "```\n",
        "puede implementarse como\n",
        "```python\n",
        "def f():\n",
        "    if C:\n",
        "        A\n",
        "        f()\n",
        "f()\n",
        "```\n",
        "Por cierto, en la llamada recursiva se le debe entregar a la función el contexto en que habría operado en la siguiente iteración del ciclo.\n",
        "\n",
        "Por ejemplo, si queremos imprimir uno por uno los elementos de un arreglo $a$, una forma iterativa de hacerlo sería:"
      ]
    },
    {
      "cell_type": "code",
      "execution_count": null,
      "metadata": {
        "id": "c371DAQUltb3"
      },
      "outputs": [],
      "source": [
        "def imprimir(a):\n",
        "    k=0\n",
        "    while k<len(a):\n",
        "        print(a[k])\n",
        "        k+=1"
      ]
    },
    {
      "cell_type": "code",
      "execution_count": null,
      "metadata": {
        "id": "9GtJwLcgltb3",
        "outputId": "7d6f3f4b-0d65-457f-c358-f2ad265363d7"
      },
      "outputs": [
        {
          "name": "stdout",
          "output_type": "stream",
          "text": [
            "0.12225215333811135\n",
            "0.9666515621892792\n",
            "0.7343725168219568\n",
            "0.12940626022986446\n",
            "0.8673473432897322\n",
            "0.17030220494709525\n"
          ]
        }
      ],
      "source": [
        "a=np.random.random(6)\n",
        "imprimir(a)"
      ]
    },
    {
      "cell_type": "markdown",
      "metadata": {
        "id": "KJqQ8m7_ltb3"
      },
      "source": [
        "En forma recursiva, esto queda como:"
      ]
    },
    {
      "cell_type": "code",
      "execution_count": null,
      "metadata": {
        "id": "llRipbrCltb3"
      },
      "outputs": [],
      "source": [
        "def imprimir(a):\n",
        "    imprimir_recursivo(a,0)\n",
        "\n",
        "def imprimir_recursivo(a,k): # imprimir desde a[k] en adelante\n",
        "    if k<len(a):\n",
        "        print(a[k])\n",
        "        imprimir_recursivo(a,k+1)"
      ]
    },
    {
      "cell_type": "code",
      "execution_count": null,
      "metadata": {
        "id": "-Ef7wkD2ltb3",
        "outputId": "8273e246-c4e5-47fc-e005-2ab782dfbd19"
      },
      "outputs": [
        {
          "name": "stdout",
          "output_type": "stream",
          "text": [
            "0.45816469538634885\n",
            "0.1238539048720454\n",
            "0.8452780478232685\n",
            "0.8249535493615134\n",
            "0.9090338598886296\n",
            "0.09811688418783937\n"
          ]
        }
      ],
      "source": [
        "a=np.random.random(6)\n",
        "imprimir(a)"
      ]
    },
    {
      "cell_type": "markdown",
      "metadata": {
        "id": "mjhEEiokltb3"
      },
      "source": [
        "Este proceso es reversible: cuando una función recursiva lo último que hace es llamarse a sí misma, lo que se llama \"recursividad a la cola\" (\"*tail recursion*\"), eso se puede reemplazar por un `while`:"
      ]
    },
    {
      "cell_type": "code",
      "execution_count": null,
      "metadata": {
        "id": "pLDKmZDIltb3"
      },
      "outputs": [],
      "source": [
        "def imprimir(a):\n",
        "    imprimir_recursivo(a,0)\n",
        "\n",
        "def imprimir_recursivo(a,k): # imprimir desde a[k] en adelante, ahora NO recursivo\n",
        "    while k<len(a): # reemplazó a \"if k<len(a):\"\n",
        "        print(a[k])\n",
        "        k+=1 # reemplazó a \"imprimir_recursivo(a,k+1)\""
      ]
    },
    {
      "cell_type": "code",
      "execution_count": null,
      "metadata": {
        "id": "3TBapnPiltb4",
        "outputId": "15516ccf-3352-4cc3-9df3-341cb785203d"
      },
      "outputs": [
        {
          "name": "stdout",
          "output_type": "stream",
          "text": [
            "0.8070534435454794\n",
            "0.5755788541681871\n",
            "0.030521084623730044\n",
            "0.08963944581140049\n",
            "0.3373915600706874\n",
            "0.3774477796256137\n"
          ]
        }
      ],
      "source": [
        "a=np.random.random(6)\n",
        "imprimir(a)"
      ]
    },
    {
      "cell_type": "markdown",
      "metadata": {
        "id": "TrTLXcvUltb4"
      },
      "source": [
        "Pero ahora la función `imprimir_recursivo` es llamada desde un único lugar, con k=0, y por lo tanto, en ese lugar podemos sustituir la llamada por el código de la función, con lo que el resultado es:"
      ]
    },
    {
      "cell_type": "code",
      "execution_count": null,
      "metadata": {
        "id": "DwYGCy2Lltb4"
      },
      "outputs": [],
      "source": [
        "def imprimir(a):\n",
        "    # Esto reemplaza a \"imprimir_recursivo(a,0)\"\n",
        "    k=0\n",
        "    while k<len(a): # reemplazó a \"if k<len(a):\"\n",
        "        print(a[k])\n",
        "        k+=1 # reemplazó a \"imprimir_recursivo(a,k+1)\"\""
      ]
    },
    {
      "cell_type": "code",
      "execution_count": null,
      "metadata": {
        "id": "8V6wS1doltb4",
        "outputId": "7f23e958-941c-4a61-e88e-d3134e4e3bc2"
      },
      "outputs": [
        {
          "name": "stdout",
          "output_type": "stream",
          "text": [
            "0.5828598441122989\n",
            "0.5271351769877851\n",
            "0.9123074412733657\n",
            "0.6678789866751913\n",
            "0.6832783074153522\n",
            "0.5897843645769776\n"
          ]
        }
      ],
      "source": [
        "a=np.random.random(6)\n",
        "imprimir(a)"
      ]
    },
    {
      "cell_type": "markdown",
      "metadata": {
        "id": "-3_pXw8fltb4"
      },
      "source": [
        "¡Con lo cual hemos vuelto al punto de partida!\n",
        "\n",
        "Sin embargo, esto solo funciona para eliminar la \"recursividad a la cola\". Si hay llamadas recursivas que **no** son lo último que ejecuta la función, no pueden eliminarse con esta receta, y como veremos más adelante, requerirá el uso de una estructura llamada una \"pila\" (*stack*).\n",
        "\n",
        "El siguiente ejemplo ilustra un caso en que esto ocurre."
      ]
    },
    {
      "cell_type": "markdown",
      "metadata": {
        "id": "T6t-P8zwltb4"
      },
      "source": [
        "## Ejemplo: Torres de Hanoi\n",
        "\n",
        "![Torres de Hanoi](https://github.com/femunoz/AED-Apuntes/blob/main/recursos/ColorHanoi.jpg?raw=1)\n",
        "\n",
        "Este puzzle consiste en trasladar $n$ discos desde la estaca 1 a la estaca 3, respetando siempre las dos reglas siguientes:\n",
        "* Solo se puede mover de a un disco a la vez, y\n",
        "* Nunca puede haber un disco más grande sobre uno más chico\n",
        "Esto se puede resolver recursivamente de la siguiente manera:\n",
        "\n",
        "![Torres de Hanoi](https://github.com/femunoz/AED-Apuntes/blob/main/recursos/hanoi.gif?raw=1)\n",
        "\n",
        "Para mover $n$ discos desde $a$ hasta $c$ (usando la estaca $b$ como auxiliar):\n",
        "* Primero movemos (recursivamente) $n-1$ discos desde la estaca $a$ a la estaca $b$\n",
        "* Una vez despejado el camino, movemos 1 disco desde $a$ hasta $c$\n",
        "* Finalmente, movemos de nuevo (recursivamente) los $n-1$ discos, ahora desde $b$ hasta $c$ (usando $a$ como auxiliar)\n",
        "\n",
        "El caso base es $n=0$, en cuyo caso no se hace nada."
      ]
    },
    {
      "cell_type": "code",
      "execution_count": null,
      "metadata": {
        "id": "yB7be3dNltb4"
      },
      "outputs": [],
      "source": [
        "def Hanoi(n, a, b, c): # Mover n discos desde \"a\" a \"c\", usando \"b\" como auxiliar\n",
        "    if n>0:\n",
        "        Hanoi(n-1, a, c, b)\n",
        "        print(a, \"-->\", c) # Mueve 1 disco desde \"a\" hasta \"c\"\n",
        "        Hanoi(n-1, b, a, c)"
      ]
    },
    {
      "cell_type": "code",
      "execution_count": null,
      "metadata": {
        "id": "cBG-sB9_ltb4",
        "outputId": "e545575c-7c15-4b8c-dc2c-a574d5872e50"
      },
      "outputs": [
        {
          "name": "stdout",
          "output_type": "stream",
          "text": [
            "1 --> 3\n",
            "1 --> 2\n",
            "3 --> 2\n",
            "1 --> 3\n",
            "2 --> 1\n",
            "2 --> 3\n",
            "1 --> 3\n"
          ]
        }
      ],
      "source": [
        "Hanoi(3, 1, 2, 3)"
      ]
    },
    {
      "cell_type": "markdown",
      "metadata": {
        "id": "GDahJmwDltb4"
      },
      "source": [
        "Este algoritmo es muy claro y bastante intuitivo. Si aplicamos la regla de eliminación de \"recursividad a la cola\", lo que resulta es un algoritmo equivalente, pero mucho menos trivial de entender:"
      ]
    },
    {
      "cell_type": "code",
      "execution_count": null,
      "metadata": {
        "id": "xeuy3HDoltb4"
      },
      "outputs": [],
      "source": [
        "def Hanoi(n, a, b, c): # Mover n discos desde \"a\" a \"c\", usando \"b\" como auxiliar\n",
        "    while n>0: # reemplaza a \"if n>0:\"\n",
        "        Hanoi(n-1, a, c, b)\n",
        "        print(a, \"-->\", c) # Mueve 1 disco desde \"a\" hasta \"c\"\n",
        "        n-=1\n",
        "        (a,b)=(b,a) # reemplaza a \"Hanoi(n-1, b, a, c)\""
      ]
    },
    {
      "cell_type": "code",
      "execution_count": null,
      "metadata": {
        "id": "KpFJ6o5pltb4",
        "outputId": "dafc1a5a-c6aa-4acb-e980-4cf6cbfa5de5"
      },
      "outputs": [
        {
          "name": "stdout",
          "output_type": "stream",
          "text": [
            "1 --> 3\n",
            "1 --> 2\n",
            "3 --> 2\n",
            "1 --> 3\n",
            "2 --> 1\n",
            "2 --> 3\n",
            "1 --> 3\n"
          ]
        }
      ],
      "source": [
        "Hanoi(3, 1, 2, 3)"
      ]
    },
    {
      "cell_type": "markdown",
      "metadata": {
        "id": "5gv6b4pOltb4"
      },
      "source": [
        "¿Puede usted dar una explicación intuitiva de por qué funciona este algoritmo?"
      ]
    }
  ],
  "metadata": {
    "kernelspec": {
      "display_name": "Python 3",
      "language": "python",
      "name": "python3"
    },
    "language_info": {
      "codemirror_mode": {
        "name": "ipython",
        "version": 3
      },
      "file_extension": ".py",
      "mimetype": "text/x-python",
      "name": "python",
      "nbconvert_exporter": "python",
      "pygments_lexer": "ipython3",
      "version": "3.6.9"
    },
    "colab": {
      "provenance": [],
      "toc_visible": true
    }
  },
  "nbformat": 4,
  "nbformat_minor": 0
}